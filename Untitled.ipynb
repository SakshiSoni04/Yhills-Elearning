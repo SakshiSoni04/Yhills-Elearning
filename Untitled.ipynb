{
 "cells": [
  {
   "cell_type": "code",
   "execution_count": 1,
   "id": "87018ab3-0a28-4a9a-b5c6-7c7ef81d0766",
   "metadata": {},
   "outputs": [
    {
     "data": {
      "text/html": [
       "<div>\n",
       "<style scoped>\n",
       "    .dataframe tbody tr th:only-of-type {\n",
       "        vertical-align: middle;\n",
       "    }\n",
       "\n",
       "    .dataframe tbody tr th {\n",
       "        vertical-align: top;\n",
       "    }\n",
       "\n",
       "    .dataframe thead th {\n",
       "        text-align: right;\n",
       "    }\n",
       "</style>\n",
       "<table border=\"1\" class=\"dataframe\">\n",
       "  <thead>\n",
       "    <tr style=\"text-align: right;\">\n",
       "      <th></th>\n",
       "      <th>Subject</th>\n",
       "      <th>Title</th>\n",
       "      <th>Institution</th>\n",
       "      <th>Learning Product</th>\n",
       "      <th>Level</th>\n",
       "      <th>Duration</th>\n",
       "      <th>Gained Skills</th>\n",
       "      <th>Rate</th>\n",
       "      <th>Reviews</th>\n",
       "    </tr>\n",
       "  </thead>\n",
       "  <tbody>\n",
       "    <tr>\n",
       "      <th>0</th>\n",
       "      <td>Business</td>\n",
       "      <td>Business Analysis &amp; Process Management</td>\n",
       "      <td>Coursera Project Network</td>\n",
       "      <td>Guided Project</td>\n",
       "      <td>Beginner</td>\n",
       "      <td>Less Than 2 Hours</td>\n",
       "      <td>Process Analysis, Business Process, Business A...</td>\n",
       "      <td>4.4</td>\n",
       "      <td>6100</td>\n",
       "    </tr>\n",
       "    <tr>\n",
       "      <th>1</th>\n",
       "      <td>Business</td>\n",
       "      <td>Getting Started with Microsoft Excel</td>\n",
       "      <td>Coursera Project Network</td>\n",
       "      <td>Guided Project</td>\n",
       "      <td>Intermediate</td>\n",
       "      <td>Less Than 2 Hours</td>\n",
       "      <td>Microsoft Excel, Excel Formulas, Spreadsheet S...</td>\n",
       "      <td>4.6</td>\n",
       "      <td>11000</td>\n",
       "    </tr>\n",
       "    <tr>\n",
       "      <th>2</th>\n",
       "      <td>Business</td>\n",
       "      <td>Financial Markets</td>\n",
       "      <td>Yale University</td>\n",
       "      <td>Course</td>\n",
       "      <td>Beginner</td>\n",
       "      <td>1 - 3 Months</td>\n",
       "      <td>Investment Banking, Risk Management, Financial...</td>\n",
       "      <td>4.8</td>\n",
       "      <td>30000</td>\n",
       "    </tr>\n",
       "    <tr>\n",
       "      <th>3</th>\n",
       "      <td>Business</td>\n",
       "      <td>Investment Risk Management</td>\n",
       "      <td>Coursera Project Network</td>\n",
       "      <td>Guided Project</td>\n",
       "      <td>Intermediate</td>\n",
       "      <td>Less Than 2 Hours</td>\n",
       "      <td>Investment Management, Risk Management, Financ...</td>\n",
       "      <td>4.4</td>\n",
       "      <td>1800</td>\n",
       "    </tr>\n",
       "    <tr>\n",
       "      <th>4</th>\n",
       "      <td>Business</td>\n",
       "      <td>Food &amp; Beverage Management</td>\n",
       "      <td>Università Bocconi</td>\n",
       "      <td>Course</td>\n",
       "      <td>Mixed</td>\n",
       "      <td>1 - 3 Months</td>\n",
       "      <td>Food and Beverage, Hospitality, Restaurant Man...</td>\n",
       "      <td>4.8</td>\n",
       "      <td>4800</td>\n",
       "    </tr>\n",
       "  </tbody>\n",
       "</table>\n",
       "</div>"
      ],
      "text/plain": [
       "    Subject                                   Title               Institution  \\\n",
       "0  Business  Business Analysis & Process Management  Coursera Project Network   \n",
       "1  Business    Getting Started with Microsoft Excel  Coursera Project Network   \n",
       "2  Business                       Financial Markets           Yale University   \n",
       "3  Business              Investment Risk Management  Coursera Project Network   \n",
       "4  Business              Food & Beverage Management        Università Bocconi   \n",
       "\n",
       "  Learning Product         Level           Duration  \\\n",
       "0   Guided Project      Beginner  Less Than 2 Hours   \n",
       "1   Guided Project  Intermediate  Less Than 2 Hours   \n",
       "2           Course      Beginner       1 - 3 Months   \n",
       "3   Guided Project  Intermediate  Less Than 2 Hours   \n",
       "4           Course         Mixed       1 - 3 Months   \n",
       "\n",
       "                                       Gained Skills  Rate  Reviews  \n",
       "0  Process Analysis, Business Process, Business A...   4.4     6100  \n",
       "1  Microsoft Excel, Excel Formulas, Spreadsheet S...   4.6    11000  \n",
       "2  Investment Banking, Risk Management, Financial...   4.8    30000  \n",
       "3  Investment Management, Risk Management, Financ...   4.4     1800  \n",
       "4  Food and Beverage, Hospitality, Restaurant Man...   4.8     4800  "
      ]
     },
     "execution_count": 1,
     "metadata": {},
     "output_type": "execute_result"
    }
   ],
   "source": [
    "import pandas as pd\n",
    "df = pd.read_csv(\"data/Coursera.csv\")\n",
    "df.head()"
   ]
  },
  {
   "cell_type": "code",
   "execution_count": 2,
   "id": "25fedce5-3512-4d0b-9e90-bce12f819f06",
   "metadata": {},
   "outputs": [
    {
     "name": "stdout",
     "output_type": "stream",
     "text": [
      "TF-IDF Matrix Shape: (3404, 2786)\n"
     ]
    }
   ],
   "source": [
    "import pandas as pd\n",
    "from sklearn.feature_extraction.text import TfidfVectorizer\n",
    "\n",
    "# Load dataset\n",
    "df = pd.read_csv(\"data/Coursera.csv\")\n",
    "\n",
    "# Fill missing values\n",
    "df['Gained Skills'] = df['Gained Skills'].fillna(\"\")\n",
    "df['Subject'] = df['Subject'].fillna(\"\")\n",
    "\n",
    "# Combine text features for content-based filtering\n",
    "df['text_features'] = df['Title'] + \" \" + df['Subject'] + \" \" + df['Gained Skills']\n",
    "\n",
    "# TF-IDF vectorization\n",
    "tfidf = TfidfVectorizer(stop_words=\"english\", max_features=5000)\n",
    "tfidf_matrix = tfidf.fit_transform(df['text_features'])\n",
    "\n",
    "print(\"TF-IDF Matrix Shape:\", tfidf_matrix.shape)"
   ]
  },
  {
   "cell_type": "code",
   "execution_count": 3,
   "id": "c5fc2ff4-696d-4d21-a242-1f86bb4375b8",
   "metadata": {},
   "outputs": [],
   "source": [
    "from sklearn.metrics.pairwise import cosine_similarity\n",
    "\n",
    "# Compute cosine similarity between all courses\n",
    "cosine_sim = cosine_similarity(tfidf_matrix, tfidf_matrix)"
   ]
  },
  {
   "cell_type": "code",
   "execution_count": 4,
   "id": "e1bd78ae-bc1d-437f-a715-f576a261dc79",
   "metadata": {},
   "outputs": [],
   "source": [
    "def recommend_courses(title, df, cosine_sim, top_n=5):\n",
    "    # Find index of the course\n",
    "    idx = df[df['Title'] == title].index[0]\n",
    "    \n",
    "    # Get similarity scores for this course\n",
    "    sim_scores = list(enumerate(cosine_sim[idx]))\n",
    "    \n",
    "    # Sort courses by similarity (highest first)\n",
    "    sim_scores = sorted(sim_scores, key=lambda x: x[1], reverse=True)\n",
    "    \n",
    "    # Get top_n most similar courses (skip the first one = itself)\n",
    "    sim_scores = sim_scores[1:top_n+1]\n",
    "    \n",
    "    # Get course indices\n",
    "    course_indices = [i[0] for i in sim_scores]\n",
    "    \n",
    "    return df[['Title', 'Institution', 'Level', 'Rate']].iloc[course_indices]"
   ]
  },
  {
   "cell_type": "code",
   "execution_count": 5,
   "id": "23806678-0faa-4806-821b-866c36b5550b",
   "metadata": {},
   "outputs": [
    {
     "name": "stdout",
     "output_type": "stream",
     "text": [
      "                                                 Title  \\\n",
      "693                Marketing: Customer Needs and Wants   \n",
      "294                               Mercados financieros   \n",
      "286  Foundational Finance for Strategic Decision Ma...   \n",
      "413                                 Marchés financiers   \n",
      "563                                  Financial Markets   \n",
      "\n",
      "                          Institution         Level  Rate  \n",
      "693              IESE Business School         Mixed   4.5  \n",
      "294                   Yale University      Beginner   4.7  \n",
      "286            University of Michigan      Beginner   4.7  \n",
      "413                   Yale University      Beginner   4.7  \n",
      "563  Università di Napoli Federico II  Intermediate   4.8  \n"
     ]
    }
   ],
   "source": [
    "print(recommend_courses(\"Financial Markets\", df, cosine_sim, top_n=5))"
   ]
  },
  {
   "cell_type": "code",
   "execution_count": 9,
   "id": "a9c3bb00-e310-46e7-b524-54d4bd0f52f5",
   "metadata": {},
   "outputs": [
    {
     "name": "stdout",
     "output_type": "stream",
     "text": [
      "                                                  Title  \\\n",
      "2663                             Data Science Challenge   \n",
      "2476        Unsupervised Algorithms in Machine Learning   \n",
      "3341        Unsupervised Algorithms in Machine Learning   \n",
      "1291  Create Machine Learning Models in Microsoft Azure   \n",
      "3226          Recommender Systems with Machine Learning   \n",
      "\n",
      "                                          Gained Skills  \n",
      "2663  Applied Machine Learning, Jupyter, Machine Lea...  \n",
      "2476  Unsupervised Learning, Dimensionality Reductio...  \n",
      "3341  Unsupervised Learning, Dimensionality Reductio...  \n",
      "1291  Unsupervised Learning, Scikit Learn (Machine L...  \n",
      "3226  Data Manipulation, Applied Machine Learning, D...  \n"
     ]
    }
   ],
   "source": [
    "from sklearn.feature_extraction.text import TfidfVectorizer\n",
    "from sklearn.metrics.pairwise import cosine_similarity\n",
    "\n",
    "# Step 1: Fit vectorizer only once on the dataset\n",
    "vectorizer = TfidfVectorizer()\n",
    "tfidf_matrix = vectorizer.fit_transform(df['Gained Skills'].fillna(''))\n",
    "\n",
    "# Step 2: Recommendation function\n",
    "def recommend_by_skills(user_skills, df, vectorizer, tfidf_matrix, top_n=5):\n",
    "    # Transform user input using the same vectorizer\n",
    "    user_tfidf = vectorizer.transform([user_skills])\n",
    "    \n",
    "    # Compute similarity\n",
    "    sim_scores = cosine_similarity(user_tfidf, tfidf_matrix).flatten()\n",
    "    \n",
    "    # Get top_n recommendations\n",
    "    top_indices = sim_scores.argsort()[-top_n:][::-1]\n",
    "    return df.iloc[top_indices][['Title', 'Gained Skills']]\n",
    "\n",
    "# Example\n",
    "print(recommend_by_skills(\"Python, Data Science, Machine Learning\", df, vectorizer, tfidf_matrix, top_n=5))"
   ]
  },
  {
   "cell_type": "code",
   "execution_count": 10,
   "id": "73a906e7-c053-4947-a235-63fc88f3b083",
   "metadata": {},
   "outputs": [
    {
     "name": "stdout",
     "output_type": "stream",
     "text": [
      "                                               Title  \\\n",
      "0                             Data Science Challenge   \n",
      "1        Unsupervised Algorithms in Machine Learning   \n",
      "2        Unsupervised Algorithms in Machine Learning   \n",
      "3  Create Machine Learning Models in Microsoft Azure   \n",
      "4          Recommender Systems with Machine Learning   \n",
      "\n",
      "                                       Gained Skills  \n",
      "0  Applied Machine Learning, Jupyter, Machine Lea...  \n",
      "1  Unsupervised Learning, Dimensionality Reductio...  \n",
      "2  Unsupervised Learning, Dimensionality Reductio...  \n",
      "3  Unsupervised Learning, Scikit Learn (Machine L...  \n",
      "4  Data Manipulation, Applied Machine Learning, D...  \n"
     ]
    }
   ],
   "source": [
    "def recommend_by_skills(user_skills, df, vectorizer, tfidf_matrix, top_n=5):\n",
    "    # Transform user input into vector\n",
    "    user_vec = vectorizer.transform([user_skills])\n",
    "\n",
    "    # Compute cosine similarity\n",
    "    sim_scores = cosine_similarity(user_vec, tfidf_matrix).flatten()\n",
    "\n",
    "    # Get top indices\n",
    "    top_indices = sim_scores.argsort()[-top_n:][::-1]\n",
    "\n",
    "    # Return nice DataFrame\n",
    "    return df.iloc[top_indices][['Title', 'Gained Skills']].reset_index(drop=True)\n",
    "\n",
    "\n",
    "# Example\n",
    "recommendations = recommend_by_skills(\n",
    "    \"Python, Data Science, Machine Learning\",\n",
    "    df,\n",
    "    vectorizer,\n",
    "    tfidf_matrix,\n",
    "    top_n=5\n",
    ")\n",
    "\n",
    "print(recommendations)"
   ]
  },
  {
   "cell_type": "code",
   "execution_count": 11,
   "id": "aab3bf04-ab21-4735-9489-7359357c8dc2",
   "metadata": {},
   "outputs": [
    {
     "name": "stdout",
     "output_type": "stream",
     "text": [
      "                                               Title  \\\n",
      "0                             Data Science Challenge   \n",
      "1        Unsupervised Algorithms in Machine Learning   \n",
      "2  Create Machine Learning Models in Microsoft Azure   \n",
      "3          Recommender Systems with Machine Learning   \n",
      "4                Developing AI Applications on Azure   \n",
      "\n",
      "                                       Gained Skills  \n",
      "0  Applied Machine Learning, Jupyter, Machine Lea...  \n",
      "1  Unsupervised Learning, Dimensionality Reductio...  \n",
      "2  Unsupervised Learning, Scikit Learn (Machine L...  \n",
      "3  Data Manipulation, Applied Machine Learning, D...  \n",
      "4  Artificial Intelligence and Machine Learning (...  \n"
     ]
    }
   ],
   "source": [
    "def recommend_by_skills(user_skills, df, vectorizer, tfidf_matrix, top_n=5):\n",
    "    # Transform user input into vector\n",
    "    user_vec = vectorizer.transform([user_skills])\n",
    "\n",
    "    # Compute cosine similarity\n",
    "    sim_scores = cosine_similarity(user_vec, tfidf_matrix).flatten()\n",
    "\n",
    "    # Get top indices\n",
    "    top_indices = sim_scores.argsort()[::-1]\n",
    "\n",
    "    # Select courses, drop duplicates by Title\n",
    "    results = df.iloc[top_indices][['Title', 'Gained Skills']].drop_duplicates(subset=['Title']).head(top_n)\n",
    "\n",
    "    return results.reset_index(drop=True)\n",
    "\n",
    "\n",
    "# Example\n",
    "recommendations = recommend_by_skills(\n",
    "    \"Python, Data Science, Machine Learning\",\n",
    "    df,\n",
    "    vectorizer,\n",
    "    tfidf_matrix,\n",
    "    top_n=5\n",
    ")\n",
    "\n",
    "print(recommendations)"
   ]
  },
  {
   "cell_type": "code",
   "execution_count": 12,
   "id": "51e5333c-e0ec-4628-bd1d-aa0fdace09dd",
   "metadata": {},
   "outputs": [
    {
     "name": "stdout",
     "output_type": "stream",
     "text": [
      "                                               Title  \\\n",
      "0                             Data Science Challenge   \n",
      "1        Unsupervised Algorithms in Machine Learning   \n",
      "2  Create Machine Learning Models in Microsoft Azure   \n",
      "3          Recommender Systems with Machine Learning   \n",
      "4                Developing AI Applications on Azure   \n",
      "\n",
      "                      Institution         Level  Rate  \\\n",
      "0        Coursera Project Network  Intermediate   4.9   \n",
      "1  University of Colorado Boulder  Intermediate   3.8   \n",
      "2                       Microsoft  Intermediate   3.1   \n",
      "3                           Packt  Intermediate   3.9   \n",
      "4                      LearnQuest      Advanced   4.7   \n",
      "\n",
      "                                       Gained Skills  \n",
      "0  Applied Machine Learning, Jupyter, Machine Lea...  \n",
      "1  Unsupervised Learning, Dimensionality Reductio...  \n",
      "2  Unsupervised Learning, Scikit Learn (Machine L...  \n",
      "3  Data Manipulation, Applied Machine Learning, D...  \n",
      "4  Artificial Intelligence and Machine Learning (...  \n"
     ]
    }
   ],
   "source": [
    "def recommend_by_skills(user_skills, df, vectorizer, tfidf_matrix, top_n=5):\n",
    "    # Transform user input into vector\n",
    "    user_vec = vectorizer.transform([user_skills])\n",
    "\n",
    "    # Compute cosine similarity\n",
    "    sim_scores = cosine_similarity(user_vec, tfidf_matrix).flatten()\n",
    "\n",
    "    # Get top indices sorted by similarity\n",
    "    top_indices = sim_scores.argsort()[::-1]\n",
    "\n",
    "    # Select courses with full info, drop duplicate titles\n",
    "    results = (\n",
    "        df.iloc[top_indices][['Title', 'Institution', 'Level', 'Rate', 'Gained Skills']]\n",
    "        .drop_duplicates(subset=['Title'])\n",
    "        .head(top_n)\n",
    "    )\n",
    "\n",
    "    return results.reset_index(drop=True)\n",
    "\n",
    "\n",
    "# Example\n",
    "recommendations = recommend_by_skills(\n",
    "    \"Python, Data Science, Machine Learning\",\n",
    "    df,\n",
    "    vectorizer,\n",
    "    tfidf_matrix,\n",
    "    top_n=5\n",
    ")\n",
    "\n",
    "print(recommendations)"
   ]
  },
  {
   "cell_type": "code",
   "execution_count": 14,
   "id": "1ed5d399-ffa0-4d3d-babd-54af26a50fe6",
   "metadata": {},
   "outputs": [
    {
     "name": "stdout",
     "output_type": "stream",
     "text": [
      "                                               Title  \\\n",
      "0          Recommender Systems with Machine Learning   \n",
      "1  Scikit-Learn to Solve Regression Machine Learn...   \n",
      "2                 Нейронные сети и глубокое обучение   \n",
      "3  Create Machine Learning Models in Microsoft Azure   \n",
      "4        Unsupervised Algorithms in Machine Learning   \n",
      "\n",
      "                      Institution         Level  Rate  \\\n",
      "0                           Packt  Intermediate   3.9   \n",
      "1        Coursera Project Network      Beginner   4.7   \n",
      "2                 DeepLearning.AI  Intermediate   4.8   \n",
      "3                       Microsoft  Intermediate   3.1   \n",
      "4  University of Colorado Boulder  Intermediate   3.8   \n",
      "\n",
      "                                       Gained Skills  Match Score  \n",
      "0  Data Manipulation, Applied Machine Learning, D...        0.641  \n",
      "1  Scikit Learn (Machine Learning Library), Predi...        0.641  \n",
      "2  Deep Learning, Artificial Neural Networks, Sup...        0.620  \n",
      "3  Unsupervised Learning, Scikit Learn (Machine L...        0.615  \n",
      "4  Unsupervised Learning, Dimensionality Reductio...        0.615  \n"
     ]
    }
   ],
   "source": [
    "def recommend_by_skills(user_skills, df, vectorizer, tfidf_matrix, top_n=5):\n",
    "    user_vec = vectorizer.transform([user_skills])\n",
    "    sim_scores = cosine_similarity(user_vec, tfidf_matrix).flatten()\n",
    "\n",
    "    top_indices = sim_scores.argsort()[::-1]\n",
    "\n",
    "    results = (\n",
    "        df.iloc[top_indices][['Title', 'Institution', 'Level', 'Rate', 'Gained Skills']]\n",
    "        .drop_duplicates(subset=['Title'])\n",
    "        .head(top_n)\n",
    "        .copy()\n",
    "    )\n",
    "\n",
    "    # Add similarity score (rounded for readability)\n",
    "    results['Match Score'] = [round(sim_scores[i], 3) for i in top_indices[:len(results)]]\n",
    "\n",
    "    return results.reset_index(drop=True)\n",
    "\n",
    "recommendations = recommend_by_skills(\n",
    "    \"machine learning python\", df, vectorizer, tfidf_matrix, top_n=5\n",
    ")\n",
    "print(recommendations)"
   ]
  },
  {
   "cell_type": "code",
   "execution_count": 17,
   "id": "537ab9c7-a9ae-4e6d-a1f8-c6659579b638",
   "metadata": {},
   "outputs": [
    {
     "name": "stdout",
     "output_type": "stream",
     "text": [
      "╒════╤════════════════════════════════════════════════════════════╤════════════════════════════════╤══════════════╤════════╤════════════════════════════════════════════════════════════════════════════════════════════════════════════════════════════════════════════════════════════════════════════════════════════════════════════════════════════════════════════════════════════════════════════════════════════════════════════════════════════════════════════════════════════════════════════════════════════════════════════════════════════════════════════════════════════════════════════════════════╤═══════════════╕\n",
      "│    │ Title                                                      │ Institution                    │ Level        │   Rate │ Gained Skills                                                                                                                                                                                                                                                                                                                                                                                                                                                                          │   Match Score │\n",
      "╞════╪════════════════════════════════════════════════════════════╪════════════════════════════════╪══════════════╪════════╪════════════════════════════════════════════════════════════════════════════════════════════════════════════════════════════════════════════════════════════════════════════════════════════════════════════════════════════════════════════════════════════════════════════════════════════════════════════════════════════════════════════════════════════════════════════════════════════════════════════════════════════════════════════════════════════════════════════════════════╪═══════════════╡\n",
      "│  0 │ Recommender Systems with Machine Learning                  │ Packt                          │ Intermediate │    3.9 │ Data Manipulation, Applied Machine Learning, Data Processing, Supervised Learning, Machine Learning, Machine Learning Algorithms, Unsupervised Learning, Taxonomy, Data Analysis, Python Programming, Artificial Intelligence                                                                                                                                                                                                                                                          │         0.641 │\n",
      "├────┼────────────────────────────────────────────────────────────┼────────────────────────────────┼──────────────┼────────┼────────────────────────────────────────────────────────────────────────────────────────────────────────────────────────────────────────────────────────────────────────────────────────────────────────────────────────────────────────────────────────────────────────────────────────────────────────────────────────────────────────────────────────────────────────────────────────────────────────────────────────────────────────────────────────────────────────────────────────┼───────────────┤\n",
      "│  1 │ Scikit-Learn to Solve Regression Machine Learning Problems │ Coursera Project Network       │ Beginner     │    4.7 │ Scikit Learn (Machine Learning Library), Predictive Modeling, Regression Analysis, Machine Learning Algorithms, Applied Machine Learning, Python Programming, Machine Learning, Random Forest Algorithm                                                                                                                                                                                                                                                                                │         0.641 │\n",
      "├────┼────────────────────────────────────────────────────────────┼────────────────────────────────┼──────────────┼────────┼────────────────────────────────────────────────────────────────────────────────────────────────────────────────────────────────────────────────────────────────────────────────────────────────────────────────────────────────────────────────────────────────────────────────────────────────────────────────────────────────────────────────────────────────────────────────────────────────────────────────────────────────────────────────────────────────────────────────────────┼───────────────┤\n",
      "│  2 │ Нейронные сети и глубокое обучение                         │ DeepLearning.AI                │ Intermediate │    4.8 │ Deep Learning, Artificial Neural Networks, Supervised Learning, Artificial Intelligence, Machine Learning, Python Programming, Network Architecture, Machine Learning Algorithms                                                                                                                                                                                                                                                                                                       │         0.62  │\n",
      "├────┼────────────────────────────────────────────────────────────┼────────────────────────────────┼──────────────┼────────┼────────────────────────────────────────────────────────────────────────────────────────────────────────────────────────────────────────────────────────────────────────────────────────────────────────────────────────────────────────────────────────────────────────────────────────────────────────────────────────────────────────────────────────────────────────────────────────────────────────────────────────────────────────────────────────────────────────────────────────┼───────────────┤\n",
      "│  3 │ Create Machine Learning Models in Microsoft Azure          │ Microsoft                      │ Intermediate │    3.1 │ Unsupervised Learning, Scikit Learn (Machine Learning Library), PyTorch (Machine Learning Library), Exploratory Data Analysis, Deep Learning, Microsoft Azure, Data Visualization, Applied Machine Learning, Regression Analysis, Predictive Modeling, Image Analysis, Pandas (Python Package), Artificial Intelligence and Machine Learning (AI/ML), Data Science, MLOps (Machine Learning Operations), Machine Learning, Supervised Learning, Tensorflow, Artificial Neural Networks │         0.615 │\n",
      "├────┼────────────────────────────────────────────────────────────┼────────────────────────────────┼──────────────┼────────┼────────────────────────────────────────────────────────────────────────────────────────────────────────────────────────────────────────────────────────────────────────────────────────────────────────────────────────────────────────────────────────────────────────────────────────────────────────────────────────────────────────────────────────────────────────────────────────────────────────────────────────────────────────────────────────────────────────────────────────┼───────────────┤\n",
      "│  4 │ Unsupervised Algorithms in Machine Learning                │ University of Colorado Boulder │ Intermediate │    3.8 │ Unsupervised Learning, Dimensionality Reduction, Machine Learning Algorithms, Data Science, Applied Machine Learning, Machine Learning, Scikit Learn (Machine Learning Library), Data Mining, Python Programming, Linear Algebra, NumPy, Exploratory Data Analysis                                                                                                                                                                                                                     │         0.615 │\n",
      "╘════╧════════════════════════════════════════════════════════════╧════════════════════════════════╧══════════════╧════════╧════════════════════════════════════════════════════════════════════════════════════════════════════════════════════════════════════════════════════════════════════════════════════════════════════════════════════════════════════════════════════════════════════════════════════════════════════════════════════════════════════════════════════════════════════════════════════════════════════════════════════════════════════════════════════════════════════════════════════════╧═══════════════╛\n"
     ]
    }
   ],
   "source": [
    "from tabulate import tabulate\n",
    "\n",
    "recommendations = recommend_by_skills(\"machine learning python\", df, vectorizer, tfidf_matrix)\n",
    "\n",
    "print(tabulate(recommendations, headers=\"keys\", tablefmt=\"fancy_grid\"))"
   ]
  },
  {
   "cell_type": "code",
   "execution_count": 16,
   "id": "16a40790-c8d9-447c-9b5d-32eaac2279b9",
   "metadata": {},
   "outputs": [
    {
     "name": "stdout",
     "output_type": "stream",
     "text": [
      "Collecting tabulate\n",
      "  Downloading tabulate-0.9.0-py3-none-any.whl.metadata (34 kB)\n",
      "Downloading tabulate-0.9.0-py3-none-any.whl (35 kB)\n",
      "Installing collected packages: tabulate\n",
      "Successfully installed tabulate-0.9.0\n",
      "\n",
      "\u001B[1m[\u001B[0m\u001B[34;49mnotice\u001B[0m\u001B[1;39;49m]\u001B[0m\u001B[39;49m A new release of pip is available: \u001B[0m\u001B[31;49m24.3.1\u001B[0m\u001B[39;49m -> \u001B[0m\u001B[32;49m25.2\u001B[0m\n",
      "\u001B[1m[\u001B[0m\u001B[34;49mnotice\u001B[0m\u001B[1;39;49m]\u001B[0m\u001B[39;49m To update, run: \u001B[0m\u001B[32;49mpip install --upgrade pip\u001B[0m\n",
      "Note: you may need to restart the kernel to use updated packages.\n"
     ]
    }
   ],
   "source": [
    "pip install tabulate"
   ]
  },
  {
   "cell_type": "code",
   "execution_count": 18,
   "id": "271be881-0e2c-426f-a6f5-3a2f45fee49a",
   "metadata": {},
   "outputs": [
    {
     "name": "stdout",
     "output_type": "stream",
     "text": [
      "╒════╤════════════════════════════════════════════════════════════╤════════════════════════════════╤══════════════╤════════╤═════════════════════════════════════════════════════════════════════════════════════╤═══════════════╕\n",
      "│    │ Title                                                      │ Institution                    │ Level        │   Rate │ Gained Skills                                                                       │   Match Score │\n",
      "╞════╪════════════════════════════════════════════════════════════╪════════════════════════════════╪══════════════╪════════╪═════════════════════════════════════════════════════════════════════════════════════╪═══════════════╡\n",
      "│  0 │ Recommender Systems with Machine Learning                  │ Packt                          │ Intermediate │    3.9 │ Data Manipulation, Applied Machine Learning, Data Processing, Supervised Learnin... │         0.641 │\n",
      "├────┼────────────────────────────────────────────────────────────┼────────────────────────────────┼──────────────┼────────┼─────────────────────────────────────────────────────────────────────────────────────┼───────────────┤\n",
      "│  1 │ Scikit-Learn to Solve Regression Machine Learning Problems │ Coursera Project Network       │ Beginner     │    4.7 │ Scikit Learn (Machine Learning Library), Predictive Modeling, Regression Analysi... │         0.641 │\n",
      "├────┼────────────────────────────────────────────────────────────┼────────────────────────────────┼──────────────┼────────┼─────────────────────────────────────────────────────────────────────────────────────┼───────────────┤\n",
      "│  2 │ Нейронные сети и глубокое обучение                         │ DeepLearning.AI                │ Intermediate │    4.8 │ Deep Learning, Artificial Neural Networks, Supervised Learning, Artificial Intel... │         0.62  │\n",
      "├────┼────────────────────────────────────────────────────────────┼────────────────────────────────┼──────────────┼────────┼─────────────────────────────────────────────────────────────────────────────────────┼───────────────┤\n",
      "│  3 │ Create Machine Learning Models in Microsoft Azure          │ Microsoft                      │ Intermediate │    3.1 │ Unsupervised Learning, Scikit Learn (Machine Learning Library), PyTorch (Machine... │         0.615 │\n",
      "├────┼────────────────────────────────────────────────────────────┼────────────────────────────────┼──────────────┼────────┼─────────────────────────────────────────────────────────────────────────────────────┼───────────────┤\n",
      "│  4 │ Unsupervised Algorithms in Machine Learning                │ University of Colorado Boulder │ Intermediate │    3.8 │ Unsupervised Learning, Dimensionality Reduction, Machine Learning Algorithms, Da... │         0.615 │\n",
      "╘════╧════════════════════════════════════════════════════════════╧════════════════════════════════╧══════════════╧════════╧═════════════════════════════════════════════════════════════════════════════════════╧═══════════════╛\n"
     ]
    }
   ],
   "source": [
    "def truncate_text(text, max_len=80):\n",
    "    return text if len(text) <= max_len else text[:max_len] + \"...\"\n",
    "\n",
    "recommendations = recommend_by_skills(\"machine learning python\", df, vectorizer, tfidf_matrix)\n",
    "\n",
    "# Apply truncation to Gained Skills\n",
    "recommendations[\"Gained Skills\"] = recommendations[\"Gained Skills\"].apply(lambda x: truncate_text(str(x)))\n",
    "\n",
    "print(tabulate(recommendations, headers=\"keys\", tablefmt=\"fancy_grid\", showindex=True))"
   ]
  },
  {
   "cell_type": "code",
   "execution_count": 19,
   "id": "5ae3fe26-76c4-440e-831c-449e5e97a95b",
   "metadata": {},
   "outputs": [],
   "source": [
    "recommendations[\"Match Score\"] = (recommendations[\"Match Score\"] * 100).round(1).astype(str) + \"%\""
   ]
  },
  {
   "cell_type": "code",
   "execution_count": 20,
   "id": "55d7ff04-636f-42c3-8ef3-f3c50101a979",
   "metadata": {},
   "outputs": [
    {
     "name": "stdout",
     "output_type": "stream",
     "text": [
      "╒════╤════════════════════════════════════════════════════════════╤════════════════════════════════╤════════╤═══════════════╕\n",
      "│    │ Title                                                      │ Institution                    │   Rate │ Match Score   │\n",
      "╞════╪════════════════════════════════════════════════════════════╪════════════════════════════════╪════════╪═══════════════╡\n",
      "│  0 │ Recommender Systems with Machine Learning                  │ Packt                          │    3.9 │ 64.1%         │\n",
      "├────┼────────────────────────────────────────────────────────────┼────────────────────────────────┼────────┼───────────────┤\n",
      "│  1 │ Scikit-Learn to Solve Regression Machine Learning Problems │ Coursera Project Network       │    4.7 │ 64.1%         │\n",
      "├────┼────────────────────────────────────────────────────────────┼────────────────────────────────┼────────┼───────────────┤\n",
      "│  2 │ Нейронные сети и глубокое обучение                         │ DeepLearning.AI                │    4.8 │ 62.0%         │\n",
      "├────┼────────────────────────────────────────────────────────────┼────────────────────────────────┼────────┼───────────────┤\n",
      "│  3 │ Create Machine Learning Models in Microsoft Azure          │ Microsoft                      │    3.1 │ 61.5%         │\n",
      "├────┼────────────────────────────────────────────────────────────┼────────────────────────────────┼────────┼───────────────┤\n",
      "│  4 │ Unsupervised Algorithms in Machine Learning                │ University of Colorado Boulder │    3.8 │ 61.5%         │\n",
      "╘════╧════════════════════════════════════════════════════════════╧════════════════════════════════╧════════╧═══════════════╛\n"
     ]
    }
   ],
   "source": [
    "print(tabulate(recommendations[['Title', 'Institution', 'Rate', 'Match Score']], \n",
    "               headers=\"keys\", tablefmt=\"fancy_grid\", showindex=True))"
   ]
  },
  {
   "cell_type": "code",
   "execution_count": 21,
   "id": "9adb0d24-8654-4a40-b162-7d130535733b",
   "metadata": {},
   "outputs": [],
   "source": [
    "recommendations.insert(0, \"Rank\", range(1, len(recommendations) + 1))"
   ]
  },
  {
   "cell_type": "code",
   "execution_count": 22,
   "id": "682ab6ad-2693-4fee-a4fc-48cd02f3104b",
   "metadata": {},
   "outputs": [
    {
     "name": "stdout",
     "output_type": "stream",
     "text": [
      "╒════════╤════════════════════════════════════════════════════════════╤════════════════════════════════╤════════╤═══════════════╕\n",
      "│   Rank │ Title                                                      │ Institution                    │   Rate │ Match Score   │\n",
      "╞════════╪════════════════════════════════════════════════════════════╪════════════════════════════════╪════════╪═══════════════╡\n",
      "│      1 │ Recommender Systems with Machine Learning                  │ Packt                          │    3.9 │ 64.1%         │\n",
      "├────────┼────────────────────────────────────────────────────────────┼────────────────────────────────┼────────┼───────────────┤\n",
      "│      2 │ Scikit-Learn to Solve Regression Machine Learning Problems │ Coursera Project Network       │    4.7 │ 64.1%         │\n",
      "├────────┼────────────────────────────────────────────────────────────┼────────────────────────────────┼────────┼───────────────┤\n",
      "│      3 │ Нейронные сети и глубокое обучение                         │ DeepLearning.AI                │    4.8 │ 62.0%         │\n",
      "├────────┼────────────────────────────────────────────────────────────┼────────────────────────────────┼────────┼───────────────┤\n",
      "│      4 │ Create Machine Learning Models in Microsoft Azure          │ Microsoft                      │    3.1 │ 61.5%         │\n",
      "├────────┼────────────────────────────────────────────────────────────┼────────────────────────────────┼────────┼───────────────┤\n",
      "│      5 │ Unsupervised Algorithms in Machine Learning                │ University of Colorado Boulder │    3.8 │ 61.5%         │\n",
      "╘════════╧════════════════════════════════════════════════════════════╧════════════════════════════════╧════════╧═══════════════╛\n"
     ]
    }
   ],
   "source": [
    "print(tabulate(\n",
    "    recommendations[['Rank', 'Title', 'Institution', 'Rate', 'Match Score']],\n",
    "    headers=\"keys\", \n",
    "    tablefmt=\"fancy_grid\", \n",
    "    showindex=False\n",
    "))"
   ]
  },
  {
   "cell_type": "code",
   "execution_count": 24,
   "id": "d3617478-55db-42c3-9531-7a6302e29c4b",
   "metadata": {},
   "outputs": [
    {
     "name": "stdout",
     "output_type": "stream",
     "text": [
      " Rank                                                     Title              Institution  Rate Match Score\n",
      "    1                                Practical Machine Learning Johns Hopkins University   4.3       66.2%\n",
      "    2                          Microsoft Azure Machine Learning                Microsoft   4.9       66.2%\n",
      "    3 AI Workflow: Machine Learning, Visual Recognition and NLP                      IBM   4.3       66.1%\n",
      "    4   Build Regression, Classification, and Clustering Models                CertNexus   4.5       66.1%\n",
      "    5               Supervised Machine Learning: Classification                      IBM   4.8       65.1%\n"
     ]
    }
   ],
   "source": [
    "from sklearn.metrics.pairwise import cosine_similarity\n",
    "import pandas as pd\n",
    "\n",
    "def recommend_by_skills(user_skills, df, vectorizer, tfidf_matrix, top_n=5):\n",
    "    # Transform user input into vector\n",
    "    user_vec = vectorizer.transform([user_skills])\n",
    "    sim_scores = cosine_similarity(user_vec, tfidf_matrix).flatten()\n",
    "\n",
    "    # Sort by similarity score\n",
    "    top_indices = sim_scores.argsort()[::-1]\n",
    "\n",
    "    # Get results\n",
    "    results = (\n",
    "        df.iloc[top_indices][['Title', 'Institution', 'Rate']]\n",
    "        .drop_duplicates(subset=['Title'])\n",
    "        .head(top_n)\n",
    "        .copy()\n",
    "    )\n",
    "\n",
    "    # Add similarity score as percentage\n",
    "    results['Match Score'] = [\n",
    "        f\"{round(sim_scores[i] * 100, 1)}%\" for i in top_indices[:len(results)]\n",
    "    ]\n",
    "\n",
    "    # Add rank\n",
    "    results.insert(0, \"Rank\", range(1, len(results) + 1))\n",
    "\n",
    "    return results.reset_index(drop=True)\n",
    "recs = recommend_by_skills(\"machine learning, regression\", df, vectorizer, tfidf_matrix, top_n=5)\n",
    "print(recs.to_string(index=False))"
   ]
  },
  {
   "cell_type": "code",
   "execution_count": 27,
   "id": "74b71cd1-0499-4a17-9f0e-480d55ab02fa",
   "metadata": {},
   "outputs": [],
   "source": [
    "def recommend_by_skills(user_skills, df, vectorizer, tfidf_matrix, top_n=5):\n",
    "    # Transform user input into vector\n",
    "    user_vec = vectorizer.transform([user_skills])\n",
    "    sim_scores = cosine_similarity(user_vec, tfidf_matrix).flatten()\n",
    "\n",
    "    # Sort by similarity score (descending)\n",
    "    top_indices = sim_scores.argsort()[::-1]\n",
    "\n",
    "    # Only keep columns that exist in your df\n",
    "    results = (\n",
    "        df.iloc[top_indices][['Title', 'Institution', 'Rate']]  # removed URL\n",
    "        .drop_duplicates(subset=['Title'])\n",
    "        .head(top_n)\n",
    "        .copy()\n",
    "    )\n",
    "\n",
    "    # Add similarity score\n",
    "    results['Match Score'] = [\n",
    "        f\"{round(sim_scores[i] * 100, 1)}%\" for i in top_indices[:len(results)]\n",
    "    ]\n",
    "\n",
    "    # Add ranking\n",
    "    results.insert(0, \"Rank\", range(1, len(results) + 1))\n",
    "\n",
    "    return results"
   ]
  },
  {
   "cell_type": "code",
   "execution_count": 28,
   "id": "4239fa01-6758-4c0d-95c9-d8e527ecd28c",
   "metadata": {},
   "outputs": [
    {
     "name": "stdout",
     "output_type": "stream",
     "text": [
      "|   Rank | Title                                                     | Institution              |   Rate | Match Score   |\n",
      "|--------|-----------------------------------------------------------|--------------------------|--------|---------------|\n",
      "|      1 | Practical Machine Learning                                | Johns Hopkins University |    4.3 | 66.2%         |\n",
      "|      2 | Microsoft Azure Machine Learning                          | Microsoft                |    4.9 | 66.2%         |\n",
      "|      3 | AI Workflow: Machine Learning, Visual Recognition and NLP | IBM                      |    4.3 | 66.1%         |\n",
      "|      4 | Build Regression, Classification, and Clustering Models   | CertNexus                |    4.5 | 66.1%         |\n",
      "|      5 | Supervised Machine Learning: Classification               | IBM                      |    4.8 | 65.1%         |\n"
     ]
    }
   ],
   "source": [
    "from tabulate import tabulate\n",
    "\n",
    "recs = recommend_by_skills(\"machine learning, regression\", df, vectorizer, tfidf_matrix, top_n=5)\n",
    "print(tabulate(recs, headers=\"keys\", tablefmt=\"github\", showindex=False))"
   ]
  },
  {
   "cell_type": "code",
   "execution_count": null,
   "id": "c61deb56-3b78-4d93-9242-569bd216cff9",
   "metadata": {},
   "outputs": [],
   "source": []
  }
 ],
 "metadata": {
  "kernelspec": {
   "display_name": "Python [conda env:anaconda3-sahilenv]",
   "language": "python",
   "name": "conda-env-anaconda3-sahilenv-py"
  },
  "language_info": {
   "codemirror_mode": {
    "name": "ipython",
    "version": 3
   },
   "file_extension": ".py",
   "mimetype": "text/x-python",
   "name": "python",
   "nbconvert_exporter": "python",
   "pygments_lexer": "ipython3",
   "version": "3.13.5"
  }
 },
 "nbformat": 4,
 "nbformat_minor": 5
}
